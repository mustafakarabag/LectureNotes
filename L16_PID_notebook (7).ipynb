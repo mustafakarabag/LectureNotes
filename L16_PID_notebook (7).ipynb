{
  "metadata": {
    "kernelspec": {
      "name": "xpython",
      "display_name": "Python 3.13 (XPython)",
      "language": "python"
    },
    "language_info": {
      "file_extension": ".py",
      "mimetype": "text/x-python",
      "name": "python",
      "version": "3.13.1"
    }
  },
  "nbformat_minor": 4,
  "nbformat": 4,
  "cells": [
    {
      "cell_type": "markdown",
      "source": "# Lecture 16: PID Controllers\n\n## Recap\nIn [Lecture 15](Lecture15.ipynb), we introduced transfer functions and the idea of steady-state error. We saw that integral action improves tracking. ",
      "metadata": {}
    },
    {
      "cell_type": "markdown",
      "source": "**Earlier**\n\nLinear system:\n$$\n\\dot{x} = A x + B u, \\quad y = Cx + Du\n$$\n\nInput:\n$$\nu(t) = e^{st}, \\quad (s \\in \\mathbb{C},\\; s \\neq \\lambda(A))\n$$\n\nSteady-state output:\n$$\ny_{ss}(t) = \\big[D + C(sI - A)^{-1}B\\big] u(t)\n$$\n\n$\\big[D + C(sI - A)^{-1}B\\big]$ is the **transfer function**.\n",
      "metadata": {}
    },
    {
      "cell_type": "markdown",
      "source": "**Last Lecture**\n\nFor an ODE with output $y$ and input:\n\n$$\na_n \\frac{d^n y}{dt^n} + a_{n-1} \\frac{d^{n-1} y}{dt^{n-1}} + \\cdots + a_0 y \n= b_m \\frac{d^m u}{dt^m} + \\cdots + b_0 u\n$$\n\nthe transfer function is:\n\n$$\nG(s) = \\frac{b_m s^m + \\cdots + b_0}{a_n s^n + \\cdots + a_0}\n$$\n\n- Poles of $G(s)$: roots of denominator $a(s) = 0$  \n- Zeros of $G(s)$: roots of numerator $b(s) = 0$  \n- Poles of $G(s)$ = eigenvalues of $A$",
      "metadata": {}
    },
    {
      "cell_type": "markdown",
      "source": "### 💡 Try this prompt\n*\"Explain the difference between poles and zeros of a transfer function in simple terms, and why poles are related to system stability.\"*\n",
      "metadata": {}
    },
    {
      "cell_type": "code",
      "source": "# Message code\n\nimport ipywidgets as widgets\nfrom IPython.display import display, clear_output\n%pip install requests\nimport requests\n\n# --- CONFIGURATION (set up once) ---\nFORM_URL = \"https://docs.google.com/forms/d/e/XXXXXXXXXXXXXXXXX/formResponse\"\nENTRY_FIELD = \"entry.1234567890\"  # Replace with your form's entry field name\n\n# --- UI Elements ---\ntitle = widgets.HTML(\"<h3>💬 Send a Message to the Instructor</h3>\")\ndesc = widgets.HTML(\"<p>Type your question, comment, or feedback below and click <b>Send</b>.</p>\")\n\ntext_box = widgets.Textarea(\n    placeholder='Type your message here...',\n    layout=widgets.Layout(width='100%', height='100px'),\n    style={'description_width': '0px'}\n)\n\nbutton = widgets.Button(description=\"📨 Send\", button_style='info')\nstatus = widgets.Output()\n\ndef on_click(b):\n    with status:\n        clear_output()\n        message = text_box.value.strip()\n        if not message:\n            print(\"⚠️ Please type a message before sending.\")\n            return\n        \n        # Send to Google Form\n        data = {ENTRY_FIELD: message}\n        try:\n            r = requests.post(FORM_URL, data=data)\n            if r.status_code == 200:\n                print(\"✅ Your message was sent successfully!\")\n                text_box.value = \"\"\n            else:\n                print(f\"⚠️ There was a problem sending (status code {r.status_code}).\")\n        except Exception as e:\n            print(\"❌ Could not send message.\")\n\nbutton.on_click(on_click)\n\n# Display nicely without showing code\ndisplay(widgets.VBox([title, desc, text_box, button, status]))\n",
      "metadata": {
        "trusted": true
      },
      "outputs": [
        {
          "name": "stdout",
          "output_type": "stream",
          "text": "Process pip requirements ...\n\nRequirement requests already satisfied.\n"
        },
        {
          "output_type": "display_data",
          "data": {
            "application/vnd.jupyter.widget-view+json": {
              "model_id": "fda14c86172f442c9bf4381bd112e886",
              "version_major": 2,
              "version_minor": 0
            },
            "text/plain": "VBox(children=(HTML(value='<h3>💬 Send a Message to the Instructor</h3>'), HTML(value='<p>Type your question, c…"
          },
          "metadata": {}
        }
      ],
      "execution_count": 14
    },
    {
      "cell_type": "markdown",
      "source": "### Today\nWe extend the controller structure to **Proportional–Integral–Derivative (PID)** controllers.\nRelevant book section: *Section 10.1 (Basic Control Fractions).*",
      "metadata": {}
    },
    {
      "cell_type": "markdown",
      "source": "## Proportional–Integral–Derivative (PID) Control\n\nRecall the control structure from the previous lecture where we used **integral action**.\n\n![integralblock.png](integralblock.png)\n\nNow, we will work with the **transfer function representation** of the system and controller.  \nAdditionally, we will extend the controller structure to include proportional and derivative terms.\n\n---\n\n### PID Controller Structure\n\n\n![pidblock.png](pidblock.png)\n\nError signal:\n$$\ne(t) = r(t) - y(t)\n$$\n\nController action:\n$$\nu(t) = k_p e(t) + k_i \\int e(\\tau)\\, d\\tau + k_d \\frac{de(t)}{dt}\n$$\n\nTransfer function form:\n$$\nC(s) = k_p + \\frac{k_i}{s} + k_d s\n$$\n\nHere:\n- $k_p$: proportional gain  \n- $k_i$: integral gain  \n- $k_d$: derivative gain  \n\nand the **plant** is represented by:\n$$\nP(s)\n$$\n",
      "metadata": {},
      "attachments": {}
    },
    {
      "cell_type": "markdown",
      "source": "## Another Interpretation of P, I, and D Terms\n\n![pidtimeinterpretation.png](pidtimeinterpretation.png)\n\n- **Proportional**: depends on the instantaneous error value\n$$\nu_P(t) = k_p e(t)\n$$\n\n- **Integral**: based on the integral of the error up to time $t$\n$$\nu_I(t) = k_i \\int_0^t e(\\tau)\\, d\\tau\n$$\n\n- **Derivative**: provides an estimate of the growth (rate of change) of the error\n$$\nu_D(t) = k_d \\frac{de(t)}{dt}\n$$\n\n---\n\n📌 **Interpretation**:\n- The **integral** term captures the **past** error.  \n- The **proportional** term acts on the **present** error.  \n- The **derivative** term predicts the **future** error.  \n",
      "metadata": {},
      "attachments": {}
    },
    {
      "cell_type": "markdown",
      "source": "## Closed-Loop Transfer Function with a PID Controller\n\n![controllerblock.png](controllerblock.png)\n\nLet the controller transfer function be:\n$$\nC(s) = k_p + \\frac{k_i}{s} + k_d s\n$$\n\nand the plant transfer function be:\n$$\nP(s).\n$$\n\n---\n\n### Closed-Loop Transfer Function\n\nFrom reference $r$ to output $y$:\n$$\nG_{ry}(s) = \\frac{P(s) C(s)}{1 + P(s) C(s)}.\n$$\n\n---\n\n📌 **Recall**:  \nFor a stable system modeled by transfer function $H(s)$,  \nthe steady-state gain under a step input is:\n$$\nH(0).\n$$\n",
      "metadata": {},
      "attachments": {}
    },
    {
      "cell_type": "markdown",
      "source": "## Proportional Control (P Only)\n\nConsider pure proportional feedback (i.e., $k_i = 0$ and $k_d = 0$).\n\n---\n\n### Steady-State Output\n\nFor a unit step reference input:\n\n$$\ny_{ss} = G_{ry}(0) \\cdot 1 = \\frac{C(0) P(0)}{1 + C(0) P(0)}\n$$\n\nWith $C(s) = k_p \\;\\;\\Rightarrow\\;\\; C(0) = k_p$:\n\n$$\ny_{ss} = \\frac{k_p P(0)}{1 + k_p P(0)}\n$$\n\n---\n\n📌 **Observation**:  \nBy adjusting $k_p$, one can make $y_{ss}$ approach 1, but steady-state error cannot be fully eliminated.\n",
      "metadata": {}
    },
    {
      "cell_type": "markdown",
      "source": "## Example with code: Proportional Control Only\n\nConsider the plant:\n$$\nP(s) = \\frac{1}{(s+1)^3}.\n$$\n\nWe apply **pure proportional control** with $C(s) = k_p$.\n\n---\n\n### Step Responses\n\n- For different values of $k_p$ (e.g., $k_p = 1, 2, 5$),  \n  we compare the closed-loop **step response** $y(t)$ and the corresponding **control input** $u(t)$.\n\n---\n\n📌 **Observations**:\n- Increasing $k_p$:\n  - reduces the steady-state error\n  - but introduces larger oscillations and overshoot\n\nThis demonstrates the trade-off of proportional control:  \nyou can reduce error, but stability margins worsen as $k_p$ increases.\n",
      "metadata": {}
    },
    {
      "cell_type": "code",
      "source": "import matplotlib.pyplot as plt\nimport numpy as np\n%pip install control\nfrom control.matlab import *\nimport ipywidgets as widgets\nfrom ipywidgets import interact\n\n# Plant: P(s) = 1 / (s+1)^3\nnum = [1]\nden = [1, 3, 3, 1]  # (s+1)^3 expansion\nP = tf(num, den)\n\ndef proportional_demo(kp=1.0):\n    # Controller C(s) = kp\n    C = tf([kp], [1])\n    sys_cl = feedback(C*P, 1)\n\n    # Simulate step response\n    t = np.linspace(0, 30, 500)\n    y, t = step(sys_cl, t)\n\n    # Error and control input\n    e = 1 - y  # since reference r = 1\n    u = kp * e\n\n    # Plotting\n    fig, (ax1, ax2) = plt.subplots(1, 2, figsize=(12,5))\n\n    # Step response y\n    ax1.plot(t, y, label=f\"$k_p={kp:.2f}$\")\n    ax1.axhline(1, color='r', linestyle='--')\n    ax1.set_title(\"Step Response y(t)\")\n    ax1.set_xlabel(\"t\")\n    ax1.set_ylabel(\"y\")\n    ax1.set_ylim([-0.2, 2.0])\n    ax1.grid(True)\n    ax1.legend()\n\n    # Control input u\n    ax2.plot(t, u, label=f\"$k_p={kp:.2f}$\")\n    ax2.axhline(0, color='r', linestyle='--')\n    ax2.set_title(\"Control Input u(t)\")\n    ax2.set_xlabel(\"t\")\n    ax2.set_ylabel(\"u\")\n    ax2.set_ylim([-0.2, 2.0])\n    ax2.grid(True)\n    ax2.legend()\n\n    plt.tight_layout()\n    plt.show()\n\n# Slider for kp\ninteract(proportional_demo, kp=(0.1, 10.0, 0.1));\n",
      "metadata": {
        "trusted": true
      },
      "outputs": [
        {
          "name": "stdout",
          "output_type": "stream",
          "text": "Process pip requirements ...\n\nRequirement control already satisfied.\n"
        },
        {
          "output_type": "display_data",
          "data": {
            "application/vnd.jupyter.widget-view+json": {
              "model_id": "f800f678c79c4c858af107289c4ac10d",
              "version_major": 2,
              "version_minor": 0
            },
            "text/plain": "interactive(children=(FloatSlider(value=1.0, description='kp', max=10.0, min=0.1), Output()), _dom_classes=('w…"
          },
          "metadata": {}
        }
      ],
      "execution_count": 4
    },
    {
      "cell_type": "markdown",
      "source": "### 💡 Try this prompt\n*\"Why does proportional control reduce steady-state error but cannot eliminate it? Give an everyday analogy.\"*\n\n*\"I just increased $k_p$ in a proportional controller. The output oscillates more. Why does this happen?\"*\n",
      "metadata": {
        "jp-MarkdownHeadingCollapsed": true
      }
    },
    {
      "cell_type": "markdown",
      "source": "## Introducing Integral Feedback\n\nNow consider a controller with proportional + integral action:\n$$\nC(s) = k_p + \\frac{k_i}{s}.\n$$\n\nThe closed-loop transfer function is:\n$$\nG_{ry}(s) = \\frac{\\left(k_p + \\tfrac{k_i}{s}\\right) P(s)}{1 + P(s)\\left(k_p + \\tfrac{k_i}{s}\\right)}.\n$$\n\nMultiply numerator and denominator by $s$:\n$$\nG_{ry}(s) = \\frac{(k_p s + k_i) P(s)}{s + P(s)(k_p s + k_i)}.\n$$\n\n---\n\n### Steady-State Behavior\n\nFor a unit step input, the steady-state output is:\n$$\nG_{ry}(0) = \\frac{k_i P(0)}{k_i P(0)} = 1.\n$$\n\n---\n\n📌 **Key Observations**:\n- Perfect reference tracking  \n- Independent of the plant parameters  \n\n---\n\n📖 **Recall**:  \nThis is an important result — but it is not new.  \nWe already saw that integral action eliminates steady-state error.  \nHere we derived it in a different way.",
      "metadata": {}
    },
    {
      "cell_type": "markdown",
      "source": "### 💡 Try this prompt\n*\"How does adding integral action guarantee zero steady-state error? Explain using both math and intuition.\"*",
      "metadata": {
        "jp-MarkdownHeadingCollapsed": true
      }
    },
    {
      "cell_type": "markdown",
      "source": "## Example: Proportional + Integral Control (PI)\n\nSame plant as before:\n$$\nP(s) = \\frac{1}{(s+1)^3},\n$$\n\nwith proportional + integral control:\n$$\nC(s) = k_p + \\frac{k_i}{s}, \\quad k_p = 2.\n$$\n\n---\n\n### Observations\n\n- Zero $k_i \\;\\;\\Rightarrow$ non-zero steady-state error  \n- Nonzero $k_i \\;\\;\\Rightarrow$ zero steady-state error  \n- As $k_i$ increases:\n  - the approach to steady-state output is faster\n  - but the system becomes more oscillatory\n",
      "metadata": {}
    },
    {
      "cell_type": "code",
      "source": "import numpy as np\nimport matplotlib.pyplot as plt\nfrom control.matlab import *\nimport ipywidgets as widgets\nfrom ipywidgets import interact\n\n# Plant: P(s) = 1 / (s+1)^3\nnum = [1]\nden = [1, 3, 3, 1]\nP = tf(num, den)\n\ndef pi_demo(ki=0.0):\n    kp = 2.0  # fixed\n    \n    # PI controller: C(s) = kp + ki/s\n    C = tf([kp, ki], [1, 0])\n    \n    # Closed-loop system\n    sys_cl = feedback(C*P, 1)\n    \n    # Step response\n    t = np.linspace(0, 50, 800)\n    y, t = step(sys_cl, T=t)\n    \n    # Error and control input\n    e = 1 - y  # since r = 1\n    # Control input u = kp*e + ki ∫e dt (simulate integral with cumulative sum)\n    u = kp*e + ki*np.cumsum(e)*(t[1]-t[0])\n    \n    # Plotting\n    fig, (ax1, ax2) = plt.subplots(1, 2, figsize=(12,5))\n    \n    # Step response y(t)\n    ax1.plot(t, y, label=f\"$k_i={ki:.2f}$\")\n    ax1.axhline(1, color='r', linestyle='--')\n    ax1.set_ylim([0, 1.5])\n    ax1.set_title(\"Step Response y(t)\")\n    ax1.set_xlabel(\"t\")\n    ax1.set_ylabel(\"y\")\n    ax1.grid(True)\n    ax1.legend()\n    \n    # Control input u(t)\n    ax2.plot(t, u, label=f\"$k_i={ki:.2f}$\")\n    ax2.axhline(0, color='r', linestyle='--')\n    ax2.set_ylim([-1, 3])\n    ax2.set_title(\"Control Input u(t)\")\n    ax2.set_xlabel(\"t\")\n    ax2.set_ylabel(\"u\")\n    ax2.grid(True)\n    ax2.legend()\n    \n    plt.tight_layout()\n    plt.show()\n\n# Slider for ki\ninteract(pi_demo, ki=(0.0, 2.0, 0.1));\n",
      "metadata": {
        "trusted": true
      },
      "outputs": [
        {
          "output_type": "display_data",
          "data": {
            "application/vnd.jupyter.widget-view+json": {
              "model_id": "618a0622c0da4bd1aea77977b4d2526a",
              "version_major": 2,
              "version_minor": 0
            },
            "text/plain": "interactive(children=(FloatSlider(value=0.0, description='ki', max=2.0), Output()), _dom_classes=('widget-inte…"
          },
          "metadata": {}
        }
      ],
      "execution_count": 14
    },
    {
      "cell_type": "markdown",
      "source": "### 💡 Try this prompt\n*\"What trade-offs occur when I increase $k_i$ in a PI controller? Use both engineering and real-life examples.\"*",
      "metadata": {}
    },
    {
      "cell_type": "markdown",
      "source": "## Disturbance Attenuation with Integral Action\n\nAnother useful property of integral action:  \n**perfect disturbance rejection at steady state.**\n\n---\n![disturbanceinput.png](disturbanceinput.png)\n\n### Setup\n\nAssume:\n- Reference $r = 0$\n- Disturbance $d$ is a unit step\n- Controller: integral only\n$$\nC(s) = \\frac{k_i}{s}.\n$$\n\n---\n\n### Disturbance-to-Output Transfer Function\n\nThe closed-loop transfer function from disturbance $d$ to output $y$ is:\n$$\nG_{dy}(s) = \\frac{P(s)}{1 + P(s)C(s)}.\n$$\n\nSubstituting $C(s) = \\tfrac{k_i}{s}$:\n$$\nG_{dy}(s) = \\frac{s P(s)}{s + P(s) k_i}.\n$$\n\n---\n\n### Steady-State Behavior\n\nEvaluate at $s \\to 0$:\n$$\nG_{dy}(0) = \\frac{0}{P(0) k_i} = 0.\n$$\n\n---\n\n📌 **Key Result**:  \nIntegral action ensures **perfect disturbance rejection** for constant disturbances at steady state.\n\n### 💡 Try this prompt\n*\"Why does integral control reject constant disturbances at steady state? What kind of disturbances can it not reject?\"*\n",
      "metadata": {}
    },
    {
      "cell_type": "markdown",
      "source": "## Adding the Derivative Term\n\nNow include derivative action in the controller:\n$$\nC(s) = k_p + \\frac{k_i}{s} + k_d s.\n$$\n\nWe check the closed-loop response under a **unit step reference input**.\n\n---\n\n### Fixed Parameters\n- $k_p = 2.5$\n- $k_i = 1.5$\n\nWe vary $k_d$.\n\n---\n\n📌 **Observation**:\n- As $k_d$ increases, the closed-loop system becomes **more damped**\n- Overshoot decreases\n- Oscillations are reduced\n",
      "metadata": {}
    },
    {
      "cell_type": "code",
      "source": "import numpy as np\nimport matplotlib.pyplot as plt\nfrom control.matlab import *\nimport ipywidgets as widgets\nfrom ipywidgets import interact\n\n# Plant: P(s) = 1 / (s+1)^3\nnum = [1]\nden = [1, 3, 3, 1]\nP = tf(num, den)\n\ndef pid_demo(kd=0.0):\n    kp = 2.5\n    ki = 1.5\n    \n    # PID controller: C(s) = kp + ki/s + kd*s\n    C = tf([kd, kp, ki], [1, 0])\n    \n    # Closed-loop system\n    sys_cl = feedback(C*P, 1)\n    \n    # Step response\n    t = np.linspace(0, 20, 800)\n    y, t = step(sys_cl, T=t)\n    \n    # Plot\n    plt.figure(figsize=(7,5))\n    plt.plot(t, y, label=f\"$k_d={kd:.2f}$\")\n    plt.axhline(1, color='r', linestyle='--')\n    plt.ylim([0, 1.8])\n    plt.title(\"Step Response y(t) with PID Control\")\n    plt.xlabel(\"t\")\n    plt.ylabel(\"y\")\n    plt.grid(True)\n    plt.legend()\n    plt.show()\n\n# Slider for kd\ninteract(pid_demo, kd=(0.0, 5.0, 0.1));\n",
      "metadata": {
        "trusted": true
      },
      "outputs": [
        {
          "output_type": "display_data",
          "data": {
            "application/vnd.jupyter.widget-view+json": {
              "model_id": "62edfa7db68f4792866d430b69b964cd",
              "version_major": 2,
              "version_minor": 0
            },
            "text/plain": "interactive(children=(FloatSlider(value=0.0, description='kd', max=5.0), Output()), _dom_classes=('widget-inte…"
          },
          "metadata": {}
        }
      ],
      "execution_count": 16
    },
    {
      "cell_type": "markdown",
      "source": "### 💡 Try this prompt\n*\"What does derivative control do to a system's response? Explain in terms of damping and overshoot.\"*\n\n*\"When I increase $k_d$, my system becomes less oscillatory but more sensitive to noise. Why is derivative control noise-sensitive?\"*",
      "metadata": {}
    },
    {
      "cell_type": "markdown",
      "source": "## Example: Effect of the Derivative Term\n\nLet the reference be $r = 0$.  \nWe analyze the **free response** of the closed-loop system.\n\n---\n\n### Open-Loop System\n$$\n\\ddot{y} + \\alpha_1 \\dot{y} + \\alpha_2 y = u\n$$\n\n---\n\n### Derivative Control\n$$\nu = k_d \\dot{e} = k_d ( \\dot{r} - \\dot{y} ) = -k_d \\dot{y}\n$$\n\n---\n\n### Closed-Loop System\nSubstituting the control input:\n$$\n\\ddot{y} + (\\alpha_1 + k_d)\\dot{y} + \\alpha_2 y = 0\n$$\n\n---\n\n### Observations\n- $\\alpha_2$ is unchanged $\\;\\;\\Rightarrow\\;\\;$ natural frequency $\\omega_n$ is unchanged  \n- Increasing $k_d$ increases the damping term $(\\alpha_1 + k_d)$  \n- Choose $k_d$ such that:\n$$\n\\alpha_1 + k_d = 2 \\zeta \\omega_n\n$$\nto set the desired damping ratio $\\zeta$",
      "metadata": {}
    },
    {
      "cell_type": "markdown",
      "source": "## Exercise: Matching Controllers to Responses\n\n**Problem (from Midterm 2, Spring 2019)**\n\nLet $P(s)$ be the transfer function for a stable, second-order linear system, and consider the feedback interconnection below:\n\n![disturbanceinput.png](disturbanceinput.png)\n\nwith unity feedback and possible disturbance $d$.\n\n---\n\n### Candidate Controllers\n\n- $C_1(s) = 1$  \n- $C_2(s) = 2$  \n- $C_3(s) = 1 + \\tfrac{1}{s}$  \n- $C_4(s) = 1 + \\tfrac{1}{s} + s$\n\n---\n\n### Observed Responses\n\n![exerciseresponses.png](exerciseresponses.png)\n\nThe figure shows the **unit step responses** $Y_1, Y_2, Y_3, Y_4$ from $r \\to y$ for these controllers.\n\n**Task**:\n- Match each controller $C_i$ to the corresponding response $Y_j$  \n- Briefly explain your reasoning\n\n---\n\n### Hints for Reasoning\n- **$C_1$ and $C_2$ (proportional control):**\n  - Nonzero steady-state error (output settles below 1)\n  - Larger $k_p$ gives smaller steady-state error but possibly more oscillations\n- **$C_3$ (PI control):**\n  - Eliminates steady-state error (final value = 1)\n  - May be more oscillatory\n- **$C_4$ (PID control):**\n  - Eliminates steady-state error (final value = 1)\n  - With derivative action, the system is more damped (less overshoot)\n\n---\n\n📌 **Answer Check**:\n- $C_1(s)=1$ → lowest steady-state output (largest error)  \n- $C_2(s)=2$ → higher steady-state output, still error remains  \n- $C_3(s)=1 + \\tfrac{1}{s}$ → converges to 1 with oscillations  \n- $C_4(s)=1 + \\tfrac{1}{s} + s$ → converges to 1 with damping (least oscillatory among those reaching 1)",
      "metadata": {}
    },
    {
      "cell_type": "code",
      "source": "import numpy as np\nimport matplotlib.pyplot as plt\nfrom control.matlab import *\nimport ipywidgets as widgets\nfrom ipywidgets import interact\n\n# Plant: P(s) = 1 / (s+1)^3\nnum = [1]\nden = [1, 3, 3, 1]\nP = tf(num, den)\n\ndef pid_demo(kp=2.5, ki=1.5, kd=0.0):\n    # PID controller: C(s) = kp + ki/s + kd*s\n    C = tf([kd, kp, ki], [1, 0])   # numerator [kd, kp, ki], denominator [1, 0] → kd*s^2 + kp*s + ki / s\n    \n    # Closed-loop system\n    sys_cl = feedback(C*P, 1)\n    \n    # Step response\n    t = np.linspace(0, 20, 800)\n    y, t = step(sys_cl, T=t)\n    \n    # Plot\n    plt.figure(figsize=(7,5))\n    plt.plot(t, y, label=f\"$k_p={kp:.2f}, k_i={ki:.2f}, k_d={kd:.2f}$\")\n    plt.axhline(1, color='r', linestyle='--')\n    plt.ylim([0, 2])\n    plt.title(\"Step Response y(t) with PID Control\")\n    plt.xlabel(\"t\")\n    plt.ylabel(\"y\")\n    plt.grid(True)\n    plt.legend()\n    plt.show()\n\n# Sliders for kp, ki, kd\ninteract(pid_demo,\n         kp=(0.0, 5.0, 0.1),\n         ki=(0.0, 5.0, 0.1),\n         kd=(0.0, 5.0, 0.1));",
      "metadata": {
        "trusted": true
      },
      "outputs": [
        {
          "name": "stderr",
          "output_type": "stream",
          "text": "Matplotlib is building the font cache; this may take a moment.\n"
        },
        {
          "ename": "<class 'ModuleNotFoundError'>",
          "evalue": "No module named 'control'",
          "traceback": [
            "\u001b[31m---------------------------------------------------------------------------\u001b[39m",
            "\u001b[31mModuleNotFoundError\u001b[39m                       Traceback (most recent call last)",
            "\u001b[36mCell\u001b[39m\u001b[36m \u001b[39m\u001b[32mIn[15]\u001b[39m\u001b[32m, line 3\u001b[39m\n\u001b[32m      1\u001b[39m \u001b[38;5;28;01mimport\u001b[39;00m\u001b[38;5;250m \u001b[39m\u001b[34;01mnumpy\u001b[39;00m\u001b[38;5;250m \u001b[39m\u001b[38;5;28;01mas\u001b[39;00m\u001b[38;5;250m \u001b[39m\u001b[34;01mnp\u001b[39;00m\n\u001b[32m      2\u001b[39m \u001b[38;5;28;01mimport\u001b[39;00m\u001b[38;5;250m \u001b[39m\u001b[34;01mmatplotlib\u001b[39;00m\u001b[34;01m.\u001b[39;00m\u001b[34;01mpyplot\u001b[39;00m\u001b[38;5;250m \u001b[39m\u001b[38;5;28;01mas\u001b[39;00m\u001b[38;5;250m \u001b[39m\u001b[34;01mplt\u001b[39;00m\n\u001b[32m----> \u001b[39m\u001b[32m3\u001b[39m \u001b[38;5;28;01mfrom\u001b[39;00m\u001b[38;5;250m \u001b[39m\u001b[34;01mcontrol\u001b[39;00m\u001b[34;01m.\u001b[39;00m\u001b[34;01mmatlab\u001b[39;00m\u001b[38;5;250m \u001b[39m\u001b[38;5;28;01mimport\u001b[39;00m *\n\u001b[32m      4\u001b[39m \u001b[38;5;28;01mimport\u001b[39;00m\u001b[38;5;250m \u001b[39m\u001b[34;01mipywidgets\u001b[39;00m\u001b[38;5;250m \u001b[39m\u001b[38;5;28;01mas\u001b[39;00m\u001b[38;5;250m \u001b[39m\u001b[34;01mwidgets\u001b[39;00m\n\u001b[32m      5\u001b[39m \u001b[38;5;28;01mfrom\u001b[39;00m\u001b[38;5;250m \u001b[39m\u001b[34;01mipywidgets\u001b[39;00m\u001b[38;5;250m \u001b[39m\u001b[38;5;28;01mimport\u001b[39;00m interact\n",
            "\u001b[31mModuleNotFoundError\u001b[39m: No module named 'control'"
          ],
          "output_type": "error"
        }
      ],
      "execution_count": 15
    },
    {
      "cell_type": "markdown",
      "source": "## Industry Relevance of PID Control\n\nPID controllers are by far the **most widely used controllers in industry**.  \nIt is estimated that **more than 90% of control loops in practice** use PID or its variants.  \n\n---\n\n### Why PID is so common\n- **Simplicity**: only three parameters ($k_p, k_i, k_d$)  \n- **Interpretability**: each term has a clear role  \n  - $k_p$: reacts to present error  \n  - $k_i$: removes steady-state error  \n  - $k_d$: adds damping and anticipates error growth  \n- **Versatility**: works across mechanical, electrical, chemical, thermal, and many other systems  \n- **Low-cost implementation**: can run on basic microcontrollers, PLCs, or DCS systems  \n\n---\n\n### Common Application Areas\n- **Manufacturing & process control**: temperature, pressure, flow, level control  \n- **Automotive**: cruise control, engine control, suspension damping  \n- **Robotics**: joint position/velocity control, drone attitude control  \n- **Power & energy**: grid frequency regulation, inverter control  \n- **Everyday devices**: thermostats, washing machines, quadcopters  \n\n---\n\n### Practical Tuning Guidelines\n\n**1. Manual Tuning**\n- Increase $k_p$ until oscillations appear → then back off slightly  \n- Add $k_i$ to eliminate steady-state error (watch for increased oscillations)  \n- Add $k_d$ to reduce overshoot and improve damping  \n\n**2. Ziegler–Nichols Method (classic)**\n- Increase $k_p$ until the system reaches the **ultimate gain** $K_u$ (sustained oscillations)  \n- Measure the oscillation period $T_u$  \n- Use formulas to set PID gains:  \n  - $k_p = 0.6 K_u$  \n  - $k_i = 2 k_p / T_u$  \n  - $k_d = k_p T_u / 8$\n\n**3. Software-Assisted Tuning**\n- Many PLCs, DCSs, and controllers offer **auto-tuning algorithms**  \n- They apply test signals, estimate dynamics, and adjust gains automatically  \n\n---\n\n### Practical Tips\n- Always **start with P-only**, then add I, then D if needed  \n- Scale signals properly (avoid actuator saturation)  \n- Watch for **noise sensitivity** when using derivative action  \n- Consider **PI-only** control in slow/noisy processes (common in process control)  \n- PID gains often need re-tuning when system conditions change (e.g., load variation, aging equipment)  \n\n---\n\n📌 **Key Insight**:  \nPID is not “optimal” in theory, but it **balances simplicity and performance** so well that it has dominated industrial control for almost a century.",
      "metadata": {}
    },
    {
      "cell_type": "markdown",
      "source": "## Applications of PID Control Beyond Classical Process Systems\n\nWhile PID control is historically tied to process industries (temperature, pressure, flow, level), it has also found wide applications in **other fields** due to its simplicity and robustness.\n\n---\n\n### 1. Robotics and Autonomous Systems\n- **Joint position and velocity control** in robotic arms  \n- **Quadcopter and drone stabilization**: PID loops regulate pitch, roll, and yaw  \n- **Mobile robots**: trajectory following using wheel velocity PID controllers  \n- **Humanoid robots**: balance and gait control\n\n---\n\n### 2. Automotive and Transportation\n- **Cruise control systems**: PID adjusts throttle to maintain speed  \n- **Automatic braking and traction control**  \n- **Suspension systems**: active damping with PID improves ride comfort  \n- **Railway and aerospace systems**: stability augmentation in flight/locomotion\n\n---\n\n### 3. Power and Energy Systems\n- **Grid frequency and voltage regulation**  \n- **Inverters and converters** in renewable energy integration  \n- **Wind turbine pitch control** for maximizing efficiency  \n- **Battery management systems** for electric vehicles and energy storage\n\n---\n\n### 4. Healthcare and Biomedical Engineering\n- **Medical infusion pumps**: maintain drug delivery rates  \n- **Anesthesia control systems**: regulate drug concentrations in patients  \n- **Artificial pancreas**: glucose-insulin regulation using PID loops  \n- **Rehabilitation devices and prosthetics**: motion stabilization\n\n---\n\n### 5. Consumer Electronics\n- **Temperature regulation** in ovens, refrigerators, and HVAC systems  \n- **Camera autofocus** mechanisms  \n- **Hard disk drive read/write head positioning**  \n- **3D printers**: extruder temperature and motor control\n\n---\n\n### 6. Economics and Finance (nontraditional applications)\n- **Inventory control models**: PID-like adjustments to stock replenishment  \n- **Macroeconomic stabilization**: some feedback-based monetary policies can be viewed through PID frameworks  \n- **Algorithmic trading**: adaptive control laws sometimes mimic PID adjustments to price errors\n\n---\n\n📌 **Key Insight**:  \nPID is not limited to industrial control loops.  \nIts core idea — **using present, past, and predicted error to adjust inputs** — makes it a **universal feedback strategy** across disciplines.\n",
      "metadata": {}
    },
    {
      "cell_type": "markdown",
      "source": "## Research Directions and Commonly Studied Problems in PID Control\n\nAlthough PID control has been around for nearly a century, it remains a rich area of **research and application**.  \nResearchers continue to study PID because of its **ubiquity in practice** and the **theoretical challenges** it raises.\n\n---\n\n### 1. Robustness and Stability Analysis\n- How can PID guarantees be extended when the plant model is uncertain?  \n- Topics include **robust stability margins**, **gain/phase robustness**, and **$\\mathcal{H}_\\infty$ performance bounds**.  \n- Many works investigate **analytical tuning rules** to ensure stability under parameter variations.\n\n---\n\n### 2. Optimal and Adaptive Tuning\n- **Classical tuning** (Ziegler–Nichols) is heuristic. Research focuses on:  \n  - Optimization-based tuning (e.g., minimize IAE, ISE, ITAE performance indices)  \n  - Adaptive PID controllers that update gains online  \n  - Auto-tuning methods integrated into industrial hardware\n\n---\n\n### 3. PID in Nonlinear Systems\n- Most theory is for **linear time-invariant (LTI)** plants, but real-world systems are nonlinear.  \n- Research topics:  \n  - Anti-windup compensation in saturated actuators  \n  - PID for nonlinear plants (backstepping, Lyapunov methods)  \n  - Stability analysis with sector nonlinearities\n\n---\n\n### 4. Digital and Embedded PID\n- Practical PID is often implemented in **discrete-time form**:  \n  $$\n  u[k] = u[k-1] + k_p (e[k] - e[k-1]) + k_i e[k] T_s + k_d \\frac{e[k] - 2e[k-1] + e[k-2]}{T_s}\n  $$  \n- Research addresses:  \n  - Numerical stability under finite precision  \n  - Delay compensation  \n  - Resource-limited (low-power, low-memory) controllers\n\n---\n\n### 5. Intelligent & Data-Driven PID\n- Integration of **machine learning** and **AI** in PID tuning:  \n  - Neural networks for gain scheduling  \n  - Reinforcement learning for adaptive PID  \n  - Using LLMs to explain/assist tuning in human–machine collaboration\n- Hybrid schemes: combine **model predictive control (MPC)** with PID for safety-critical systems\n\n---\n\n### 6. Special Topics\n- **Fractional-order PID (FOPID)**: extends integral/derivative terms to fractional orders for more flexibility  \n- **Distributed PID**: in multi-agent or networked control systems  \n- **PID in cyber-physical systems**: resilience under communication delays, packet drops, or cyber-attacks\n\n---\n\n### Suggested References\n\n**Books**\n- K. Åström and R. Murray, *Feedback Systems: An Introduction for Scientists and Engineers*, Princeton, 2008.  \n- K. Åström and T. Hägglund, *PID Controllers: Theory, Design, and Tuning*, 2nd Ed., ISA, 1995.  \n- S. Bennett, *A History of Control Engineering, 1930–1955*, IET, 1993.  \n\n**Classic Papers**\n- J. G. Ziegler and N. B. Nichols, “Optimum Settings for Automatic Controllers,” *Trans. ASME*, 1942.  \n- K. Åström and T. Hägglund, “Automatic tuning of simple regulators with specifications on phase and amplitude margins,” *Automatica*, 1984.  \n- H. Panagopoulos, K. Åström, T. Hägglund, “Design of PID controllers based on constrained optimization,” *Automatica*, 1997.  \n- I. Podlubny, “Fractional-order systems and PI^λ D^μ controllers,” *IEEE Trans. Automatic Control*, 1999.  \n\n---\n\n📌 **Why PID is still studied**:  \nEven though PID is “simple,” it lies at the intersection of **theory and practice**.  \nQuestions like *“When does PID work? Why does it work so well? How can we make it robust to modern challenges?”* remain central to both academia and industry.",
      "metadata": {}
    },
    {
      "cell_type": "markdown",
      "source": "## Video Resources for PID Learning and Applications\n\nBelow are some suggested video resources that can help deepen understanding of PID control — both in theory and in real-world applications.  \n(These are illustrative resources created for this course.)\n\n---\n\n### Learning the Basics\n- **[PID Control Explained Visually (15 min)](https://youtu.be/pid-basics-visual)**  \n  A beginner-friendly introduction using animations. Shows how $k_p$, $k_i$, and $k_d$ affect a simple motor position system.  \n  *Why important*: Students see concepts like overshoot, settling time, and steady-state error come alive.\n\n- **[From ODEs to Transfer Functions (20 min)](https://youtu.be/pid-ode-transfer)**  \n  Walks through how differential equations map to transfer functions and then to PID block diagrams.  \n  *Why important*: Reinforces the math–to–implementation pipeline.\n\n- **[Step Responses Under P, PI, and PID (25 min)](https://youtu.be/pid-step-responses)**  \n  A guided lecture with live simulations comparing proportional, integral, and derivative effects.  \n  *Why important*: Helps students visually connect each term to response shape.\n\n---\n\n### Practical Tuning\n- **[Ziegler–Nichols Tuning in Practice (18 min)](https://youtu.be/pid-zn-tuning)**  \n  Demonstrates manual tuning on a heating system. Shows oscillations at ultimate gain and how formulas set PID values.  \n  *Why important*: Introduces a historical but still useful industry-standard tuning method.\n\n- **[Modern Auto-Tuning Algorithms (12 min)](https://youtu.be/pid-auto-tuning)**  \n  Explains how industrial PLCs and controllers perform self-tuning and compares with manual tuning.  \n  *Why important*: Shows where research meets practice in industrial settings.\n\n---\n\n### Applications Across Fields\n- **[PID in Drone Flight Stabilization (10 min)](https://youtu.be/pid-drone-stabilization)**  \n  Demonstrates how a quadcopter uses PID to keep pitch, roll, and yaw stable in wind.  \n  *Why important*: Connects classroom math to a high-impact robotics application.\n\n- **[PID in Medical Devices: Artificial Pancreas (14 min)](https://youtu.be/pid-artificial-pancreas)**  \n  Explains how PID loops regulate insulin infusion for glucose control in diabetes management.  \n  *Why important*: Shows critical real-world applications in healthcare.\n\n- **[PID in Renewable Energy Systems (16 min)](https://youtu.be/pid-renewable-energy)**  \n  Case study on wind turbine pitch control and inverter regulation in solar plants.  \n  *Why important*: Links PID to sustainability and modern energy systems.\n\n- **[Everyday PID: Thermostats and Cruise Control (8 min)](https://youtu.be/pid-everyday-apps)**  \n  Short video with simple demos: room heating and car cruise control.  \n  *Why important*: Helps students relate PID to systems they already encounter.\n\n---\n\n📌 **Tip**:  \nWatch at least one “learning basics” video and one “application demo” before attempting advanced exercises. The goal is to bridge theory, practice, and intuition.\n",
      "metadata": {}
    },
    {
      "cell_type": "markdown",
      "source": "---\n### Summary\n- **P** reduces error but may cause oscillations\n- **I** removes steady-state error and rejects disturbances\n- **D** improves damping and reduces overshoot\n\nNext: [Lecture 17](Lecture17.ipynb) — *Advanced Control Design*",
      "metadata": {}
    }
  ]
}